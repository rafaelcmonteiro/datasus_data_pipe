{
 "cells": [
  {
   "cell_type": "code",
   "execution_count": 58,
   "id": "79421d4e",
   "metadata": {},
   "outputs": [],
   "source": [
    "import ftplib"
   ]
  },
  {
   "cell_type": "code",
   "execution_count": 59,
   "id": "98598039",
   "metadata": {},
   "outputs": [],
   "source": [
    "FTP_HOST = \"ftp.datasus.gov.br\"\n",
    "FTP_USER = \"anonymous\"\n",
    "FTP_PASS = \"123\""
   ]
  },
  {
   "cell_type": "code",
   "execution_count": 60,
   "id": "c981d3e5",
   "metadata": {},
   "outputs": [],
   "source": [
    "# Connecting to the FTP server\n",
    "\n",
    "ftp = ftplib.FTP(FTP_HOST, FTP_USER, FTP_PASS)"
   ]
  },
  {
   "cell_type": "code",
   "execution_count": 61,
   "id": "4e866a42",
   "metadata": {},
   "outputs": [
    {
     "name": "stdout",
     "output_type": "stream",
     "text": [
      "220 Microsoft FTP Service\n"
     ]
    }
   ],
   "source": [
    "# Print out the FTP\n",
    "\n",
    "print(ftp.getwelcome())"
   ]
  },
  {
   "cell_type": "code",
   "execution_count": 62,
   "id": "670dbbe1",
   "metadata": {},
   "outputs": [
    {
     "data": {
      "text/plain": [
       "'250 CWD command successful.'"
      ]
     },
     "execution_count": 62,
     "metadata": {},
     "output_type": "execute_result"
    }
   ],
   "source": [
    "# cd to a specific path\n",
    "\n",
    "ftp.cwd(\"/dissemin/publicos/SIASUS/200801_/Dados\")"
   ]
  },
  {
   "cell_type": "code",
   "execution_count": 63,
   "id": "0eaee6ec",
   "metadata": {},
   "outputs": [],
   "source": [
    "# Showing the all data inside the directory\n",
    "\n",
    "data_names = ftp.nlst()"
   ]
  },
  {
   "cell_type": "code",
   "execution_count": 64,
   "id": "e192d7f7",
   "metadata": {},
   "outputs": [
    {
     "name": "stdout",
     "output_type": "stream",
     "text": [
      "['ABOAC1502.dbc', 'ABOAC1503.dbc', 'ABOAC1504.dbc', 'ABOAC1505.dbc', 'ABOAC1507.dbc', 'ABOAC1508.dbc', 'ABOAC1509.dbc', 'ABOAC1511.dbc', 'ABOAC1602.dbc', 'ABOAC1604.dbc', 'ABOAC1608.dbc', 'ABOAC1609.dbc', 'ABOAC1612.dbc', 'ABOAC1706.dbc', 'ABOAC1906.dbc', 'ABOAC1907.dbc', 'ABOAC1908.dbc', 'ABOAC1909.dbc', 'ABOAC1910.dbc', 'ABOAC2003.dbc', 'ABOAC2004.dbc', 'ABOAC2006.dbc', 'ABOAC2009.dbc', 'ABOAC2010.dbc', 'ABOAC2011.dbc', 'ABOAC2012.dbc', 'ABOAC2101.dbc', 'ABOAC2102.dbc', 'ABOAC2103.dbc', 'ABOAC2110.dbc', 'ABOAC2111.dbc', 'ABOAC2112.dbc', 'ABOAC2203.dbc', 'ABOAC2204.dbc', 'ABOAC2206.dbc', 'ABOAC2207.dbc', 'ABOAC2208.dbc', 'ABOAC2209.dbc', 'ABOAC2210.dbc', 'ABOAC2211.dbc', 'ABOAC2212.dbc', 'ABOAC2301.dbc', 'ABOAC2302.dbc', 'ABOAM2208.dbc', 'ABOAM2209.dbc', 'ABOAM2211.dbc', 'ABOBA1609.dbc', 'ABOBA1610.dbc', 'ABOBA1611.dbc', 'ABOBA1612.dbc', 'ABOBA1701.dbc', 'ABOBA1702.dbc', 'ABOBA1703.dbc', 'ABOBA1704.dbc', 'ABOBA1705.dbc', 'ABOBA1706.dbc', 'ABOBA1707.dbc', 'ABOBA1708.dbc', 'ABOBA1709.dbc', 'ABOBA1711.dbc', 'ABOBA1802.dbc', 'ABOBA1803.dbc', 'ABOBA1804.dbc', 'ABOBA1805.dbc', 'ABOBA1807.dbc', 'ABOBA1810.dbc', 'ABOBA1901.dbc', 'ABOBA1902.dbc', 'ABOBA1911.dbc', 'ABOCE1401.dbc', 'ABOCE1405.dbc', 'ABOCE1406.dbc', 'ABOCE1407.dbc', 'ABOCE1409.dbc', 'ABOCE1410.dbc', 'ABOCE1502.dbc', 'ABOCE1505.dbc', 'ABOCE1506.dbc', 'ABOCE1508.dbc', 'ABOCE1509.dbc', 'ABOCE1510.dbc', 'ABOCE1511.dbc', 'ABOCE1512.dbc', 'ABOCE1602.dbc', 'ABOCE1603.dbc', 'ABOCE1604.dbc', 'ABOCE1605.dbc', 'ABOCE1606.dbc', 'ABOCE1607.dbc', 'ABOCE1608.dbc', 'ABOCE1609.dbc', 'ABOCE1610.dbc', 'ABOCE1611.dbc', 'ABOCE1612.dbc', 'ABOCE1701.dbc', 'ABOCE1702.dbc', 'ABOCE1703.dbc', 'ABOCE1704.dbc', 'ABOCE1705.dbc', 'ABOCE1706.dbc', 'ABOCE1707.dbc', 'ABOCE1709.dbc', 'ABOCE1710.dbc', 'ABOCE1711.dbc', 'ABOCE1801.dbc', 'ABOCE1803.dbc', 'ABOCE1804.dbc', 'ABOCE1805.dbc', 'ABOCE1806.dbc', 'ABOCE1807.dbc', 'ABOCE1808.dbc', 'ABOCE1809.dbc', 'ABOCE1810.dbc', 'ABOCE1811.dbc', 'ABOCE1812.dbc', 'ABOCE1902.dbc', 'ABOCE1903.dbc', 'ABOCE1904.dbc', 'ABOCE1905.dbc', 'ABOCE1906.dbc', 'ABOCE1907.dbc', 'ABOCE1908.dbc', 'ABOCE1909.dbc', 'ABOCE1910.dbc', 'ABOCE1911.dbc', 'ABOCE1912.dbc', 'ABOCE2001.dbc', 'ABOCE2002.dbc', 'ABOCE2003.dbc', 'ABOCE2004.dbc', 'ABOCE2005.dbc', 'ABOCE2006.dbc', 'ABOCE2007.dbc', 'ABOCE2008.dbc', 'ABOCE2009.dbc', 'ABOCE2010.dbc', 'ABOCE2011.dbc', 'ABOCE2012.dbc', 'ABOCE2101.dbc', 'ABOCE2102.dbc', 'ABOCE2103.dbc', 'ABOCE2104.dbc', 'ABOCE2107.dbc', 'ABOCE2111.dbc', 'ABOCE2112.dbc', 'ABOCE2201.dbc', 'ABOCE2202.dbc', 'ABOCE2206.dbc', 'ABOCE2207.dbc', 'ABOCE2208.dbc', 'ABOCE2210.dbc', 'ABOCE2211.dbc', 'ABOCE2212.dbc', 'ABOCE2301.dbc', 'ABOCE2302.dbc', 'ABOCE2303.dbc', 'ABODF1402.dbc', 'ABODF1403.dbc', 'ABODF1404.dbc', 'ABODF1405.dbc', 'ABODF1406.dbc', 'ABODF1407.dbc', 'ABODF1408.dbc', 'ABODF1409.dbc', 'ABODF1410.dbc', 'ABOES1402.dbc', 'ABOES1403.dbc', 'ABOES1404.dbc', 'ABOES1406.dbc', 'ABOES1407.dbc', 'ABOES1408.dbc', 'ABOES1409.dbc', 'ABOES1410.dbc', 'ABOES1411.dbc', 'ABOES1412.dbc', 'ABOES1502.dbc', 'ABOES1503.dbc', 'ABOES1504.dbc', 'ABOES1505.dbc', 'ABOES1506.dbc', 'ABOES1507.dbc', 'ABOES1508.dbc', 'ABOES1509.dbc', 'ABOES1510.dbc', 'ABOES1511.dbc', 'ABOES1512.dbc', 'ABOES1601.dbc', 'ABOES1602.dbc', 'ABOES1603.dbc', 'ABOES1604.dbc', 'ABOES1605.dbc', 'ABOES1606.dbc', 'ABOES1607.dbc', 'ABOES1608.dbc', 'ABOES1609.dbc', 'ABOES1610.dbc', 'ABOES1611.dbc', 'ABOES1612.dbc', 'ABOES1701.dbc', 'ABOES1702.dbc', 'ABOES1703.dbc', 'ABOES1704.dbc', 'ABOES1705.dbc', 'ABOES1706.dbc', 'ABOES1707.dbc', 'ABOES1708.dbc', 'ABOES1709.dbc', 'ABOES1710.dbc', 'ABOES1711.dbc', 'ABOES1712.dbc', 'ABOES1801.dbc', 'ABOES1802.dbc', 'ABOES1803.dbc', 'ABOES1804.dbc', 'ABOES1805.dbc', 'ABOES1806.dbc', 'ABOES1807.dbc', 'ABOES1808.dbc', 'ABOES1809.dbc', 'ABOES1810.dbc', 'ABOES1811.dbc', 'ABOES1812.dbc', 'ABOES1901.dbc', 'ABOES1902.dbc', 'ABOES1903.dbc', 'ABOES1904.dbc', 'ABOES1905.dbc', 'ABOES1906.dbc', 'ABOES1907.dbc', 'ABOES1908.dbc', 'ABOES1909.dbc', 'ABOES1910.dbc', 'ABOES1911.dbc', 'ABOES1912.dbc', 'ABOES2001.dbc', 'ABOES2002.dbc', 'ABOES2003.dbc', 'ABOES2004.dbc', 'ABOES2005.dbc', 'ABOES2006.dbc', 'ABOES2008.dbc', 'ABOES2009.dbc', 'ABOES2010.dbc', 'ABOES2011.dbc', 'ABOES2012.dbc', 'ABOES2101.dbc', 'ABOES2102.dbc', 'ABOES2103.dbc', 'ABOES2104.dbc', 'ABOES2105.dbc', 'ABOES2106.dbc', 'ABOES2107.dbc', 'ABOES2108.dbc', 'ABOES2109.dbc', 'ABOES2110.dbc', 'ABOES2111.dbc', 'ABOES2112.dbc', 'ABOES2201.dbc', 'ABOES2202.dbc', 'ABOES2203.dbc', 'ABOES2204.dbc', 'ABOES2205.dbc', 'ABOES2206.dbc', 'ABOES2207.dbc', 'ABOES2208.dbc', 'ABOES2209.dbc', 'ABOES2210.dbc', 'ABOES2211.dbc', 'ABOES2212.dbc', 'ABOES2301.dbc', 'ABOES2302.dbc', 'ABOES2303.dbc', 'ABOMA1904.dbc', 'ABOMA1906.dbc', 'ABOMA1910.dbc', 'ABOMA1911.dbc', 'ABOMA1912.dbc', 'ABOMA2001.dbc', 'ABOMA2002.dbc', 'ABOMA2003.dbc', 'ABOMA2004.dbc', 'ABOMA2005.dbc', 'ABOMA2006.dbc', 'ABOMA2009.dbc', 'ABOMA2010.dbc', 'ABOMA2011.dbc', 'ABOMA2012.dbc', 'ABOMA2101.dbc', 'ABOMA2102.dbc', 'ABOMA2103.dbc', 'ABOMA2104.dbc', 'ABOMA2105.dbc', 'ABOMA2106.dbc', 'ABOMA2107.dbc', 'ABOMA2108.dbc', 'ABOMA2109.dbc', 'ABOMA2110.dbc', 'ABOMA2111.dbc', 'ABOMA2112.dbc', 'ABOMA2201.dbc', 'ABOMA2202.dbc', 'ABOMA2203.dbc', 'ABOMA2204.dbc', 'ABOMA2205.dbc', 'ABOMA2206.dbc', 'ABOMA2207.dbc', 'ABOMA2208.dbc', 'ABOMA2209.dbc', 'ABOMA2210.dbc', 'ABOMA2211.dbc', 'ABOMA2212.dbc', 'ABOMA2301.dbc', 'ABOMA2302.dbc', 'ABOMA2303.dbc', 'ABOMG1401.dbc', 'ABOMG1402.dbc', 'ABOMG1403.dbc', 'ABOMG1404.dbc', 'ABOMG1405.dbc', 'ABOMG1406.dbc', 'ABOMG1407.dbc', 'ABOMG1408.dbc', 'ABOMG1409.dbc', 'ABOMG1410.dbc', 'ABOMG1411.dbc', 'ABOMG1412.dbc', 'ABOMG1501.dbc', 'ABOMG1502.dbc', 'ABOMG1503.dbc', 'ABOMG1504.dbc', 'ABOMG1505.dbc', 'ABOMG1506.dbc', 'ABOMG1507.dbc', 'ABOMG1508.dbc', 'ABOMG1509.dbc', 'ABOMG1510.dbc', 'ABOMG1511.dbc', 'ABOMG1512.dbc', 'ABOMG1601.dbc', 'ABOMG1602.dbc', 'ABOMG1603.dbc', 'ABOMG1604.dbc', 'ABOMG1605.dbc', 'ABOMG1606.dbc', 'ABOMG1607.dbc', 'ABOMG1608.dbc', 'ABOMG1609.dbc', 'ABOMG1610.dbc', 'ABOMG1611.dbc', 'ABOMG1612.dbc', 'ABOMG1701.dbc', 'ABOMG1702.dbc', 'ABOMG1703.dbc', 'ABOMG1704.dbc', 'ABOMG1705.dbc', 'ABOMG1706.dbc', 'ABOMG1707.dbc', 'ABOMG1708.dbc', 'ABOMG1709.dbc', 'ABOMG1710.dbc', 'ABOMG1711.dbc', 'ABOMG1712.dbc', 'ABOMG1801.dbc', 'ABOMG1802.dbc', 'ABOMG1803.dbc', 'ABOMG1804.dbc', 'ABOMG1805.dbc', 'ABOMG1806.dbc', 'ABOMG1807.dbc', 'ABOMG1808.dbc', 'ABOMG1809.dbc', 'ABOMG1810.dbc', 'ABOMG1811.dbc', 'ABOMG1812.dbc', 'ABOMG1901.dbc', 'ABOMG1902.dbc', 'ABOMG1903.dbc', 'ABOMG1904.dbc', 'ABOMG1905.dbc', 'ABOMG1906.dbc', 'ABOMG1907.dbc', 'ABOMG1908.dbc', 'ABOMG1909.dbc', 'ABOMG1910.dbc', 'ABOMG1911.dbc', 'ABOMG1912.dbc', 'ABOMG2001.dbc', 'ABOMG2002.dbc', 'ABOMG2003.dbc', 'ABOMG2004.dbc', 'ABOMG2005.dbc', 'ABOMG2006.dbc', 'ABOMG2007.dbc', 'ABOMG2008.dbc', 'ABOMG2009.dbc', 'ABOMG2010.dbc', 'ABOMG2011.dbc', 'ABOMG2012.dbc', 'ABOMG2101.dbc', 'ABOMG2102.dbc', 'ABOMG2103.dbc', 'ABOMG2104.dbc', 'ABOMG2105.dbc', 'ABOMG2106.dbc', 'ABOMG2107.dbc', 'ABOMG2108.dbc', 'ABOMG2109.dbc', 'ABOMG2110.dbc', 'ABOMG2111.dbc', 'ABOMG2112.dbc', 'ABOMG2201.dbc', 'ABOMG2202.dbc', 'ABOMG2203.dbc', 'ABOMG2204.dbc', 'ABOMG2205.dbc', 'ABOMG2206.dbc', 'ABOMG2207.dbc', 'ABOMG2208.dbc', 'ABOMG2209.dbc', 'ABOMG2210.dbc', 'ABOMG2211.dbc', 'ABOMG2212.dbc', 'ABOMG2301.dbc', 'ABOMG2302.dbc', 'ABOMG2303.dbc', 'ABOPB2112.dbc', 'ABOPB2202.dbc', 'ABOPB2203.dbc', 'ABOPB2204.dbc', 'ABOPB2205.dbc', 'ABOPB2206.dbc', 'ABOPB2207.dbc', 'ABOPB2208.dbc', 'ABOPB2210.dbc', 'ABOPB2301.dbc', 'ABOPB2302.dbc', 'ABOPB2303.dbc', 'ABOPE1401.dbc', 'ABOPE1402.dbc', 'ABOPE1403.dbc', 'ABOPE1404.dbc', 'ABOPE1406.dbc', 'ABOPE1407.dbc', 'ABOPE1505.dbc', 'ABOPE1508.dbc', 'ABOPE1509.dbc', 'ABOPE1510.dbc', 'ABOPE1511.dbc', 'ABOPE1512.dbc', 'ABOPE1601.dbc', 'ABOPE1602.dbc', 'ABOPE1603.dbc', 'ABOPE1604.dbc', 'ABOPE1605.dbc', 'ABOPE1606.dbc', 'ABOPE1607.dbc', 'ABOPE1608.dbc', 'ABOPE1609.dbc', 'ABOPE1610.dbc', 'ABOPE1611.dbc', 'ABOPE1612.dbc', 'ABOPE1701.dbc', 'ABOPE1702.dbc', 'ABOPE1703.dbc', 'ABOPE1704.dbc', 'ABOPE1705.dbc', 'ABOPE1706.dbc', 'ABOPE1707.dbc', 'ABOPE1708.dbc', 'ABOPE1709.dbc', 'ABOPE1710.dbc', 'ABOPE1711.dbc', 'ABOPE1712.dbc', 'ABOPE1801.dbc', 'ABOPE1802.dbc', 'ABOPE1803.dbc', 'ABOPE1804.dbc', 'ABOPE1805.dbc', 'ABOPE1806.dbc', 'ABOPE1807.dbc', 'ABOPE1808.dbc', 'ABOPE1809.dbc', 'ABOPE1810.dbc', 'ABOPE1811.dbc', 'ABOPE1812.dbc', 'ABOPE1901.dbc', 'ABOPE1902.dbc', 'ABOPE1903.dbc', 'ABOPE1904.dbc', 'ABOPE1905.dbc', 'ABOPE1906.dbc', 'ABOPE1907.dbc', 'ABOPE1908.dbc', 'ABOPE1909.dbc', 'ABOPE1910.dbc', 'ABOPE1911.dbc', 'ABOPE1912.dbc', 'ABOPE2001.dbc', 'ABOPE2002.dbc', 'ABOPE2003.dbc', 'ABOPE2004.dbc', 'ABOPE2005.dbc', 'ABOPE2006.dbc', 'ABOPE2007.dbc', 'ABOPE2008.dbc', 'ABOPE2009.dbc', 'ABOPE2010.dbc', 'ABOPE2011.dbc', 'ABOPE2012.dbc', 'ABOPE2101.dbc', 'ABOPE2102.dbc', 'ABOPE2103.dbc', 'ABOPE2104.dbc', 'ABOPE2105.dbc', 'ABOPE2106.dbc', 'ABOPE2107.dbc', 'ABOPE2108.dbc', 'ABOPE2109.dbc', 'ABOPE2110.dbc', 'ABOPE2111.dbc', 'ABOPE2112.dbc', 'ABOPE2201.dbc', 'ABOPE2202.dbc', 'ABOPE2203.dbc', 'ABOPE2204.dbc', 'ABOPE2205.dbc', 'ABOPE2206.dbc', 'ABOPE2207.dbc', 'ABOPE2208.dbc', 'ABOPE2209.dbc', 'ABOPE2210.dbc', 'ABOPE2211.dbc', 'ABOPE2212.dbc', 'ABOPE2301.dbc', 'ABOPE2302.dbc', 'ABOPE2303.dbc', 'ABOPR1401.dbc', 'ABOPR1402.dbc', 'ABOPR1403.dbc', 'ABOPR1404.dbc', 'ABOPR1405.dbc', 'ABOPR1406.dbc', 'ABOPR1407.dbc', 'ABOPR1408.dbc', 'ABOPR1409.dbc', 'ABOPR1410.dbc', 'ABOPR1411.dbc', 'ABOPR1412.dbc', 'ABOPR1501.dbc', 'ABOPR1502.dbc', 'ABOPR1503.dbc', 'ABOPR1504.dbc', 'ABOPR1505.dbc', 'ABOPR1506.dbc', 'ABOPR1507.dbc', 'ABOPR1508.dbc', 'ABOPR1509.dbc', 'ABOPR1510.dbc', 'ABOPR1511.dbc', 'ABOPR1512.dbc', 'ABOPR1601.dbc', 'ABOPR1602.dbc', 'ABOPR1603.dbc', 'ABOPR1604.dbc', 'ABOPR1605.dbc', 'ABOPR1606.dbc', 'ABOPR1607.dbc', 'ABOPR1608.dbc', 'ABOPR1609.dbc', 'ABOPR1610.dbc', 'ABOPR1611.dbc', 'ABOPR1612.dbc', 'ABOPR1701.dbc', 'ABOPR1702.dbc', 'ABOPR1703.dbc', 'ABOPR1704.dbc', 'ABOPR1705.dbc', 'ABOPR1706.dbc', 'ABOPR1707.dbc', 'ABOPR1708.dbc', 'ABOPR1709.dbc', 'ABOPR1710.dbc', 'ABOPR1711.dbc', 'ABOPR1712.dbc', 'ABOPR1801.dbc', 'ABOPR1802.dbc', 'ABOPR1803.dbc', 'ABOPR1804.dbc', 'ABOPR1805.dbc', 'ABOPR1806.dbc', 'ABOPR1807.dbc', 'ABOPR1808.dbc', 'ABOPR1809.dbc', 'ABOPR1810.dbc', 'ABOPR1811.dbc', 'ABOPR1812.dbc', 'ABOPR1901.dbc', 'ABOPR1902.dbc', 'ABOPR1903.dbc', 'ABOPR1904.dbc', 'ABOPR1905.dbc', 'ABOPR1906.dbc', 'ABOPR1907.dbc', 'ABOPR1908.dbc', 'ABOPR1909.dbc', 'ABOPR1910.dbc', 'ABOPR1911.dbc', 'ABOPR1912.dbc', 'ABOPR2001.dbc', 'ABOPR2002.dbc', 'ABOPR2003.dbc', 'ABOPR2004.dbc', 'ABOPR2005.dbc', 'ABOPR2006.dbc', 'ABOPR2007.dbc', 'ABOPR2008.dbc', 'ABOPR2009.dbc', 'ABOPR2010.dbc', 'ABOPR2011.dbc', 'ABOPR2012.dbc', 'ABOPR2101.dbc', 'ABOPR2102.dbc', 'ABOPR2103.dbc', 'ABOPR2104.dbc', 'ABOPR2105.dbc', 'ABOPR2106.dbc', 'ABOPR2107.dbc', 'ABOPR2108.dbc', 'ABOPR2109.dbc', 'ABOPR2110.dbc', 'ABOPR2111.dbc', 'ABOPR2112.dbc', 'ABOPR2201.dbc', 'ABOPR2202.dbc', 'ABOPR2203.dbc', 'ABOPR2204.dbc', 'ABOPR2205.dbc', 'ABOPR2206.dbc', 'ABOPR2207.dbc', 'ABOPR2208.dbc', 'ABOPR2209.dbc', 'ABOPR2210.dbc', 'ABOPR2211.dbc', 'ABOPR2212.dbc', 'ABOPR2301.dbc', 'ABOPR2302.dbc', 'ABOPR2303.dbc', 'ABORN1603.dbc', 'ABORN1702.dbc', 'ABORN1703.dbc', 'ABORN1704.dbc', 'ABORN1705.dbc', 'ABORN1706.dbc', 'ABORN1707.dbc', 'ABORN1708.dbc', 'ABORN1709.dbc', 'ABORN1710.dbc', 'ABORN1711.dbc', 'ABORN1712.dbc', 'ABORN1802.dbc', 'ABORN1803.dbc', 'ABORN1804.dbc', 'ABORN1805.dbc', 'ABORN1806.dbc', 'ABORN1807.dbc', 'ABORN1808.dbc', 'ABORN1809.dbc', 'ABORN1810.dbc', 'ABORN1811.dbc', 'ABORN1812.dbc', 'ABORN1901.dbc', 'ABORN1902.dbc', 'ABORN1904.dbc', 'ABORN1907.dbc', 'ABORN1908.dbc', 'ABORN1909.dbc', 'ABORN1910.dbc', 'ABORN1911.dbc', 'ABORN1912.dbc', 'ABORN2001.dbc', 'ABORN2002.dbc', 'ABORN2003.dbc', 'ABORN2007.dbc', 'ABORN2008.dbc', 'ABORN2009.dbc', 'ABORN2106.dbc', 'ABORN2107.dbc', 'ABORN2108.dbc', 'ABORN2109.dbc', 'ABORN2110.dbc', 'ABORN2111.dbc', 'ABORN2112.dbc', 'ABORN2201.dbc', 'ABORN2202.dbc', 'ABORN2203.dbc', 'ABORN2204.dbc', 'ABORN2205.dbc', 'ABORN2207.dbc', 'ABORN2208.dbc', 'ABORN2209.dbc', 'ABORN2210.dbc', 'ABORN2211.dbc', 'ABORN2301.dbc', 'ABORN2303.dbc', 'ABORS1401.dbc', 'ABORS1402.dbc', 'ABORS1403.dbc', 'ABORS1404.dbc', 'ABORS1405.dbc', 'ABORS1406.dbc', 'ABORS1407.dbc', 'ABORS1408.dbc', 'ABORS1409.dbc', 'ABORS1410.dbc', 'ABORS1411.dbc', 'ABORS1412.dbc', 'ABORS1501.dbc', 'ABORS1502.dbc', 'ABORS1503.dbc', 'ABORS1504.dbc', 'ABORS1505.dbc', 'ABORS1506.dbc', 'ABORS1507.dbc', 'ABORS1508.dbc', 'ABORS1509.dbc', 'ABORS1510.dbc', 'ABORS1511.dbc', 'ABORS1512.dbc', 'ABORS1601.dbc', 'ABORS1602.dbc', 'ABORS1603.dbc', 'ABORS1604.dbc', 'ABORS1605.dbc', 'ABORS1606.dbc', 'ABORS1607.dbc', 'ABORS1608.dbc', 'ABORS1609.dbc', 'ABORS1610.dbc', 'ABORS1611.dbc', 'ABORS1612.dbc', 'ABORS1701.dbc', 'ABORS1702.dbc', 'ABORS1703.dbc', 'ABORS1704.dbc', 'ABORS1705.dbc', 'ABORS1706.dbc', 'ABORS1707.dbc', 'ABORS1708.dbc', 'ABORS1709.dbc', 'ABORS1710.dbc', 'ABORS1711.dbc', 'ABORS1712.dbc', 'ABORS1801.dbc', 'ABORS1802.dbc', 'ABORS1803.dbc', 'ABORS1804.dbc', 'ABORS1805.dbc', 'ABORS1806.dbc', 'ABORS1807.dbc', 'ABORS1808.dbc', 'ABORS1809.dbc', 'ABORS1810.dbc', 'ABORS1811.dbc', 'ABORS1812.dbc', 'ABORS1901.dbc', 'ABORS1902.dbc', 'ABORS1903.dbc', 'ABORS1904.dbc', 'ABORS1905.dbc', 'ABORS1906.dbc', 'ABORS1907.dbc', 'ABORS1908.dbc', 'ABORS1909.dbc', 'ABORS1910.dbc', 'ABORS1911.dbc', 'ABORS1912.dbc', 'ABORS2001.dbc', 'ABORS2002.dbc', 'ABORS2003.dbc', 'ABORS2004.dbc', 'ABORS2005.dbc', 'ABORS2006.dbc', 'ABORS2007.dbc', 'ABORS2008.dbc', 'ABORS2009.dbc', 'ABORS2010.dbc', 'ABORS2011.dbc', 'ABORS2012.dbc', 'ABORS2101.dbc', 'ABORS2102.dbc', 'ABORS2103.dbc', 'ABORS2104.dbc', 'ABORS2105.dbc', 'ABORS2106.dbc', 'ABORS2107.dbc', 'ABORS2108.dbc', 'ABORS2109.dbc', 'ABORS2110.dbc', 'ABORS2111.dbc', 'ABORS2112.dbc', 'ABORS2201.dbc', 'ABORS2202.dbc', 'ABORS2203.dbc', 'ABORS2204.dbc', 'ABORS2205.dbc', 'ABORS2206.dbc', 'ABORS2207.dbc', 'ABORS2208.dbc', 'ABORS2209.dbc', 'ABORS2210.dbc', 'ABORS2211.dbc', 'ABORS2212.dbc', 'ABORS2301.dbc', 'ABORS2302.dbc', 'ABORS2303.dbc', 'ABOSC1401.dbc', 'ABOSC1402.dbc', 'ABOSC1403.dbc', 'ABOSC1404.dbc', 'ABOSC1406.dbc', 'ABOSC1407.dbc', 'ABOSC1408.dbc', 'ABOSC1409.dbc', 'ABOSC1410.dbc', 'ABOSC1411.dbc', 'ABOSC1412.dbc', 'ABOSC1501.dbc', 'ABOSC1502.dbc', 'ABOSC1503.dbc', 'ABOSC1504.dbc', 'ABOSC1505.dbc', 'ABOSC1506.dbc', 'ABOSC1507.dbc', 'ABOSC1508.dbc', 'ABOSC1509.dbc', 'ABOSC1510.dbc', 'ABOSC1511.dbc', 'ABOSC1512.dbc', 'ABOSC1601.dbc', 'ABOSC1602.dbc', 'ABOSC1603.dbc', 'ABOSC1604.dbc', 'ABOSC1605.dbc', 'ABOSC1606.dbc', 'ABOSC1607.dbc', 'ABOSC1608.dbc', 'ABOSC1609.dbc', 'ABOSC1610.dbc', 'ABOSC1611.dbc', 'ABOSC1612.dbc', 'ABOSC1701.dbc', 'ABOSC1702.dbc', 'ABOSC1703.dbc', 'ABOSC1704.dbc', 'ABOSC1705.dbc', 'ABOSC1706.dbc', 'ABOSC1707.dbc', 'ABOSC1708.dbc', 'ABOSC1709.dbc', 'ABOSC1710.dbc', 'ABOSC1711.dbc', 'ABOSC1712.dbc', 'ABOSC1801.dbc', 'ABOSC1802.dbc', 'ABOSC1803.dbc', 'ABOSC1804.dbc', 'ABOSC1805.dbc', 'ABOSC1806.dbc', 'ABOSC1807.dbc', 'ABOSC1808.dbc', 'ABOSC1809.dbc', 'ABOSC1810.dbc', 'ABOSC1811.dbc', 'ABOSC1812.dbc', 'ABOSC1901.dbc', 'ABOSC1902.dbc', 'ABOSC1903.dbc', 'ABOSC1904.dbc', 'ABOSC1905.dbc', 'ABOSC1906.dbc', 'ABOSC1907.dbc', 'ABOSC1908.dbc', 'ABOSC1909.dbc', 'ABOSC1910.dbc', 'ABOSC1911.dbc', 'ABOSC1912.dbc', 'ABOSC2001.dbc', 'ABOSC2002.dbc', 'ABOSC2003.dbc', 'ABOSC2004.dbc', 'ABOSC2005.dbc', 'ABOSC2006.dbc', 'ABOSC2007.dbc', 'ABOSC2008.dbc', 'ABOSC2009.dbc', 'ABOSC2010.dbc', 'ABOSC2011.dbc', 'ABOSC2012.dbc', 'ABOSC2101.dbc', 'ABOSC2102.dbc', 'ABOSC2103.dbc', 'ABOSC2104.dbc', 'ABOSC2105.dbc', 'ABOSC2106.dbc', 'ABOSC2107.dbc', 'ABOSC2108.dbc', 'ABOSC2109.dbc', 'ABOSC2110.dbc', 'ABOSC2111.dbc', 'ABOSC2112.dbc', 'ABOSC2201.dbc', 'ABOSC2202.dbc', 'ABOSC2203.dbc', 'ABOSC2204.dbc', 'ABOSC2205.dbc', 'ABOSC2206.dbc', 'ABOSC2207.dbc', 'ABOSC2208.dbc', 'ABOSC2209.dbc', 'ABOSC2210.dbc', 'ABOSC2211.dbc', 'ABOSC2212.dbc', 'ABOSC2301.dbc', 'ABOSC2302.dbc', 'ABOSC2303.dbc', 'ABOSE2207.dbc', 'ABOSE2208.dbc', 'ABOSE2209.dbc', 'ABOSE2210.dbc', 'ABOSE2211.dbc', 'ABOSE2212.dbc', 'ABOSE2301.dbc', 'ABOSE2303.dbc', 'ABOSP1401.dbc', 'ABOSP1402.dbc', 'ABOSP1403.dbc', 'ABOSP1404.dbc', 'ABOSP1405.dbc', 'ABOSP1406.dbc', 'ABOSP1407.dbc', 'ABOSP1408.dbc', 'ABOSP1409.dbc', 'ABOSP1410.dbc', 'ABOSP1411.dbc', 'ABOSP1412.dbc', 'ABOSP1501.dbc', 'ABOSP1502.dbc', 'ABOSP1503.dbc', 'ABOSP1504.dbc', 'ABOSP1505.dbc', 'ABOSP1506.dbc', 'ABOSP1507.dbc', 'ABOSP1508.dbc', 'ABOSP1509.dbc', 'ABOSP1510.dbc', 'ABOSP1511.dbc', 'ABOSP1512.dbc', 'ABOSP1601.dbc', 'ABOSP1602.dbc', 'ABOSP1603.dbc', 'ABOSP1604.dbc', 'ABOSP1605.dbc', 'ABOSP1606.dbc', 'ABOSP1607.dbc', 'ABOSP1608.dbc', 'ABOSP1609.dbc', 'ABOSP1610.dbc', 'ABOSP1611.dbc', 'ABOSP1612.dbc', 'ABOSP1701.dbc', 'ABOSP1702.dbc', 'ABOSP1703.dbc', 'ABOSP1704.dbc', 'ABOSP1705.dbc', 'ABOSP1706.dbc', 'ABOSP1707.dbc', 'ABOSP1708.dbc', 'ABOSP1709.dbc', 'ABOSP1710.dbc', 'ABOSP1711.dbc', 'ABOSP1712.dbc', 'ABOSP1801.dbc', 'ABOSP1802.dbc', 'ABOSP1803.dbc', 'ABOSP1804.dbc', 'ABOSP1805.dbc', 'ABOSP1806.dbc', 'ABOSP1807.dbc', 'ABOSP1808.dbc', 'ABOSP1809.dbc', 'ABOSP1810.dbc', 'ABOSP1811.dbc', 'ABOSP1812.dbc', 'ABOSP1901.dbc', 'ABOSP1902.dbc', 'ABOSP1903.dbc', 'ABOSP1904.dbc', 'ABOSP1905.dbc', 'ABOSP1906.dbc', 'ABOSP1907.dbc', 'ABOSP1908.dbc', 'ABOSP1909.dbc', 'ABOSP1910.dbc', 'ABOSP1911.dbc', 'ABOSP1912.dbc', 'ABOSP2001.dbc', 'ABOSP2002.dbc', 'ABOSP2003.dbc', 'ABOSP2004.dbc', 'ABOSP2005.dbc', 'ABOSP2006.dbc', 'ABOSP2007.dbc', 'ABOSP2008.dbc', 'ABOSP2009.dbc', 'ABOSP2010.dbc', 'ABOSP2011.dbc', 'ABOSP2012.dbc', 'ABOSP2101.dbc', 'ABOSP2102.dbc', 'ABOSP2103.dbc', 'ABOSP2104.dbc', 'ABOSP2105.dbc', 'ABOSP2106.dbc', 'ABOSP2107.dbc', 'ABOSP2108.dbc', 'ABOSP2109.dbc', 'ABOSP2110.dbc', 'ABOSP2111.dbc', 'ABOSP2112.dbc', 'ABOSP2201.dbc', 'ABOSP2202.dbc', 'ABOSP2203.dbc', 'ABOSP2204.dbc', 'ABOSP2205.dbc', 'ABOSP2206.dbc', 'ABOSP2207.dbc', 'ABOSP2208.dbc', 'ABOSP2209.dbc', 'ABOSP2210.dbc', 'ABOSP2211.dbc', 'ABOSP2212.dbc', 'ABOSP2301.dbc', 'ABOSP2302.dbc', 'ABOSP2303.dbc', 'ABOTO1401.dbc', 'ABOTO1402.dbc', 'ABOTO1403.dbc', 'ABOTO1404.dbc', 'ABOTO1405.dbc', 'ABOTO1406.dbc', 'ABOTO1407.dbc', 'ABOTO1408.dbc', 'ABOTO1409.dbc', 'ABOTO1410.dbc', 'ABOTO1411.dbc', 'ABOTO1412.dbc', 'ABOTO1501.dbc', 'ABOTO1502.dbc', 'ABOTO1503.dbc', 'ABOTO1504.dbc', 'ABOTO1505.dbc', 'ABOTO1506.dbc', 'ABOTO1507.dbc', 'ABOTO1508.dbc', 'ABOTO1509.dbc', 'ABOTO1510.dbc', 'ABOTO1511.dbc', 'ABOTO1601.dbc', 'ABOTO1602.dbc', 'ABOTO1603.dbc', 'ABOTO1604.dbc', 'ABOTO1605.dbc', 'ABOTO1606.dbc', 'ABOTO1607.dbc', 'ABOTO1608.dbc', 'ABOTO1609.dbc', 'ABOTO1610.dbc', 'ABOTO1611.dbc', 'ABOTO1701.dbc', 'ABOTO1703.dbc', 'ABOTO1704.dbc', 'ABOTO1705.dbc', 'ABOTO1706.dbc', 'ABOTO1707.dbc', 'ABOTO1708.dbc', 'ABOTO1709.dbc', 'ABOTO1711.dbc', 'ABOTO1712.dbc', 'ABOTO1802.dbc', 'ABOTO1803.dbc', 'ABOTO1805.dbc', 'ABOTO1806.dbc', 'ABOTO1807.dbc', 'ABOTO1808.dbc', 'ABOTO1809.dbc', 'ABOTO1810.dbc', 'ABOTO1811.dbc', 'ABOTO1812.dbc']\n",
      "1098\n"
     ]
    }
   ],
   "source": [
    "# Getting only the data needed from teh directory\n",
    "\n",
    "# 1 - I can make a call using regex to get only a specific type of data\n",
    "# 2 - Make the call dinamic, when with needed you can get all data.\n",
    "# 3 - Make a sample      \n",
    "\n",
    "new_list = []\n",
    "[new_list.append(name) for name in data_names if name[0:3] == 'ABO']\n",
    "print(new_list)\n",
    "print(len(new_list))"
   ]
  },
  {
   "cell_type": "code",
   "execution_count": 79,
   "id": "3fc2728d",
   "metadata": {},
   "outputs": [
    {
     "name": "stdout",
     "output_type": "stream",
     "text": [
      "It's all finished\n"
     ]
    }
   ],
   "source": [
    "# Ask if the file exists and also asking forgiviness\n",
    "\n",
    "start_from = \"\"\n",
    "try:\n",
    "    with open(\"last_file.txt\", \"r\") as file:\n",
    "        start_from = file.read()\n",
    "except FileNotFoundError:\n",
    "    print(\"Exception, the file doen't existss\")\n",
    "\n",
    "\n",
    "if start_from != \"\":\n",
    "    index = new_list.index(start_from)\n",
    "    useless_list = new_list[index:]\n",
    "else:\n",
    "    useless_list = new_list\n",
    "\n",
    "\n",
    "# Getting all data to local machine\n",
    "last_file = \"\"\n",
    "# I have to treat timeouts and last known file.\n",
    "\n",
    "try:\n",
    "    for name in useless_list:\n",
    "        ftp.retrbinary(f\"RETR {name}\", open(\"data_sus/\"+name, 'wb').write)\n",
    "        last_file = name\n",
    "except TimeoutError:\n",
    "    print(f\"Timeout My Friend, Run it Again!! Stopped at {new_list.index(last_file)}:)\")\n",
    "else:\n",
    "    print(\"It's all finished\")\n",
    "finally:\n",
    "    with open(\"last_file.txt\", \"w\") as file:\n",
    "        file.write(last_file)"
   ]
  },
  {
   "cell_type": "code",
   "execution_count": 80,
   "id": "d320e6bc",
   "metadata": {},
   "outputs": [
    {
     "data": {
      "text/plain": [
       "'221 Goodbye.'"
      ]
     },
     "execution_count": 80,
     "metadata": {},
     "output_type": "execute_result"
    }
   ],
   "source": [
    "ftp.quit()"
   ]
  }
 ],
 "metadata": {
  "kernelspec": {
   "display_name": "Python 3 (ipykernel)",
   "language": "python",
   "name": "python3"
  },
  "language_info": {
   "codemirror_mode": {
    "name": "ipython",
    "version": 3
   },
   "file_extension": ".py",
   "mimetype": "text/x-python",
   "name": "python",
   "nbconvert_exporter": "python",
   "pygments_lexer": "ipython3",
   "version": "3.8.10"
  }
 },
 "nbformat": 4,
 "nbformat_minor": 5
}
